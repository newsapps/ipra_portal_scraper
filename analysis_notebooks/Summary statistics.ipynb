{
 "cells": [
  {
   "cell_type": "code",
   "execution_count": 17,
   "metadata": {
    "collapsed": false
   },
   "outputs": [],
   "source": [
    "# Load the data\n",
    "\n",
    "import json\n",
    "import os\n",
    "\n",
    "CASES_JSON_PATH = os.environ.get('CASES_JSON_PATH', os.path.join('..', 'cases.json'))\n",
    "\n",
    "with open(CASES_JSON_PATH) as cases_json_file:\n",
    "    cases_raw = json.load(cases_json_file)"
   ]
  },
  {
   "cell_type": "code",
   "execution_count": 18,
   "metadata": {
    "collapsed": false
   },
   "outputs": [],
   "source": [
    "# Count documents, audio and video\n",
    "def add_related_counts(case):\n",
    "    with_related = case.copy()\n",
    "    for k in ('documents', 'subjects', 'media'):\n",
    "        del with_related[k]\n",
    "        with_related[k + '_count'] = len(case[k])\n",
    "        \n",
    "    video_count = 0\n",
    "    audio_count = 0\n",
    "    for media_item in case['media']:\n",
    "        if 'vimeo' in media_item['url']:\n",
    "            video_count += 1\n",
    "        elif 'soundcloud' in media_item['url']:\n",
    "            audio_count += 1\n",
    "            \n",
    "    with_related['audio_count'] = audio_count\n",
    "    with_related['video_count'] = video_count\n",
    "    with_related['attachment_count'] = with_related['documents_count'] + with_related['media_count']\n",
    "    \n",
    "    return with_related\n",
    "\n",
    "cases_with_related_counts = [add_related_counts(c) for c in cases_raw]"
   ]
  },
  {
   "cell_type": "code",
   "execution_count": 19,
   "metadata": {
    "collapsed": false
   },
   "outputs": [
    {
     "name": "stdout",
     "output_type": "stream",
     "text": [
      "|--------------+-----------------+-------------+----------------------+----------------------+------------+------|\n",
      "|  media_count | documents_count | audio_count | incident_type        |            posted_on | log_number | ...  |\n",
      "|--------------+-----------------+-------------+----------------------+----------------------+------------+------|\n",
      "|           18 |               6 |          15 | Firearm Discharge    | 2016-06-03 09:01:... | 1079080    | ...  |\n",
      "|           11 |               7 |          11 | Firearm Discharge    | 2016-06-03 01:59:... | 1052816    | ...  |\n",
      "|           19 |              14 |          16 | Firearm Discharge    | 2016-06-03 01:57:... | 1052578    | ...  |\n",
      "|            3 |               7 |           2 | Firearm Discharge    | 2016-06-03 01:56:... | 1045950    | ...  |\n",
      "|            9 |               6 |           9 | Firearm Discharge    | 2016-06-03 01:54:... | 1076204    | ...  |\n",
      "|            2 |              18 |           1 | Firearm Discharge    | 2016-06-03 01:52:... | 1076081    | ...  |\n",
      "|           12 |               3 |          12 | Firearm Discharge    | 2016-06-03 01:51:... | 1076072    | ...  |\n",
      "|            6 |               8 |           6 | Firearm Discharge    | 2016-06-03 01:51:... | 1050919    | ...  |\n",
      "|           15 |               4 |           7 | Firearm Discharge    | 2016-06-03 01:48:... | 1075770    | ...  |\n",
      "|            5 |               5 |           5 | Firearm Discharge    | 2016-06-03 01:48:... | 1042532    | ...  |\n",
      "|           11 |               9 |          10 | Firearm Discharge    | 2016-06-03 01:48:... | 1071524    | ...  |\n",
      "|            0 |               0 |           0 | Firearm Discharge    | 2016-06-03 01:47:... | 1042469    | ...  |\n",
      "|            1 |               8 |           1 | Incident in Polic... | 2016-06-03 01:46:... | 1078178    | ...  |\n",
      "|            8 |               6 |           8 | Firearm Discharge    | 2016-06-03 01:46:... | 1072342    | ...  |\n",
      "|           22 |               6 |          20 | Firearm Discharge    | 2016-06-03 01:46:... | 1070445    | ...  |\n",
      "|            1 |               1 |           1 | Incident in Polic... | 2016-06-03 01:45:... | 1077051    | ...  |\n",
      "|            7 |               3 |           5 | Incident in Polic... | 2016-06-03 01:44:... | 1076980    | ...  |\n",
      "|           21 |               4 |          14 | Firearm Discharge    | 2016-06-03 01:43:... | 1079728    | ...  |\n",
      "|           15 |              10 |          13 | Firearm Discharge    | 2016-06-03 01:42:... | 1074934    | ...  |\n",
      "|            0 |               0 |           0 | Firearm Discharge    | 2016-06-03 01:41:... | 1070168    | ...  |\n",
      "|          ... |             ... |         ... | ...                  |                  ... | ...        | ...  |\n",
      "|--------------+-----------------+-------------+----------------------+----------------------+------------+------|\n"
     ]
    }
   ],
   "source": [
    "# Load everything into an analysis table\n",
    "import agate\n",
    "\n",
    "column_types = {\n",
    "    'log_number': agate.Text(),\n",
    "}\n",
    "\n",
    "cases_table = agate.Table.from_object(cases_with_related_counts,\n",
    "    column_types=column_types)\n",
    "cases_table.print_table()"
   ]
  },
  {
   "cell_type": "code",
   "execution_count": 47,
   "metadata": {
    "collapsed": false
   },
   "outputs": [
    {
     "name": "stdout",
     "output_type": "stream",
     "text": [
      "There are 101 total cases\n"
     ]
    }
   ],
   "source": [
    "# How many cases are there?\n",
    "total_cases = len(cases_table.rows)\n",
    "print(\"There are {0} total cases\".format(total_cases))"
   ]
  },
  {
   "cell_type": "code",
   "execution_count": 20,
   "metadata": {
    "collapsed": false
   },
   "outputs": [
    {
     "name": "stdout",
     "output_type": "stream",
     "text": [
      "The first case is 1042469, on 2011-01-04 21:35:00\n",
      "The last case is 1079728, on 2016-05-19 21:30:00\n"
     ]
    }
   ],
   "source": [
    "# What's the earliest case, the latest?\n",
    "cases_by_incident_date = cases_table.select(['log_number', 'incident_datetime']).order_by('incident_datetime')\n",
    "first_case = cases_by_incident_date.rows[0]\n",
    "last_case = cases_by_incident_date.rows[-1]\n",
    "print(\"The first case is {0}, on {1}\".format(first_case['log_number'], first_case['incident_datetime']))\n",
    "print(\"The last case is {0}, on {1}\".format(last_case['log_number'], last_case['incident_datetime']))"
   ]
  },
  {
   "cell_type": "code",
   "execution_count": 34,
   "metadata": {
    "collapsed": false
   },
   "outputs": [
    {
     "name": "stdout",
     "output_type": "stream",
     "text": [
      "incident_year Count\n",
      "2016              8 ▓░░░░░░░░░                                                  \n",
      "2012              9 ▓░░░░░░░░░░░                                                \n",
      "2011              6 ▓░░░░░░░                                                    \n",
      "2015             44 ▓░░░░░░░░░░░░░░░░░░░░░░░░░░░░░░░░░░░░░░░░░░░░░░░░░░░░       \n",
      "2014             24 ▓░░░░░░░░░░░░░░░░░░░░░░░░░░░░                               \n",
      "2013             10 ▓░░░░░░░░░░░░                                               \n",
      "                    +--------------+--------------+-------------+--------------+\n",
      "                    0.0          12.5           25.0          37.5          50.0\n"
     ]
    }
   ],
   "source": [
    "# What's the breakdown by year\n",
    " \n",
    "cases_with_year = cases_table.compute([\n",
    "    ('incident_year', agate.Formula(agate.Number(), lambda row: row['incident_datetime'].year))\n",
    "])\n",
    "cases_with_year.pivot('incident_year').print_bars('incident_year', width=80)"
   ]
  },
  {
   "cell_type": "code",
   "execution_count": 23,
   "metadata": {
    "collapsed": false
   },
   "outputs": [
    {
     "name": "stdout",
     "output_type": "stream",
     "text": [
      "The case 1053667 had the most attached documents and media: 103\n",
      "attachment_count Count\n",
      "[0 - 20)            72 ▓░░░░░░░░░░░░░░░░░░░░░░░░░░░░░░░░░░░░░░░░░░░░░░░░░░      \n",
      "[20 - 40)           24 ▓░░░░░░░░░░░░░░░░░                                       \n",
      "[40 - 60)            3 ▓░░                                                      \n",
      "[80 - 100)           1 ▓░                                                       \n",
      "[100 - 120)          1 ▓░                                                       \n",
      "                       +-------------+-------------+-------------+-------------+\n",
      "                       0            20            40            60            80\n"
     ]
    }
   ],
   "source": [
    "# Which case has the most attachments?\n",
    "cases_by_attachment_count = cases_table.order_by('attachment_count', reverse=True)\n",
    "most_attachments = cases_by_attachment_count.rows[0]\n",
    "print(\"The case {0} had the most attached documents and media: {1}\".format(\n",
    "    most_attachments['log_number'], most_attachments['attachment_count']))\n",
    "\n",
    "cases_table.bins('attachment_count').print_bars('attachment_count', width=80)\n"
   ]
  },
  {
   "cell_type": "code",
   "execution_count": 26,
   "metadata": {
    "collapsed": false
   },
   "outputs": [
    {
     "name": "stdout",
     "output_type": "stream",
     "text": [
      "documents_count Count\n",
      "[0 - 3)            21 ▓░░░░░░░░░░░░░░░░░░░░░░░░░░░░░░                           \n",
      "[3 - 6)            26 ▓░░░░░░░░░░░░░░░░░░░░░░░░░░░░░░░░░░░░░                    \n",
      "[6 - 9)            32 ▓░░░░░░░░░░░░░░░░░░░░░░░░░░░░░░░░░░░░░░░░░░░░░░           \n",
      "[9 - 12)           10 ▓░░░░░░░░░░░░░░                                           \n",
      "[12 - 15)           8 ▓░░░░░░░░░░░                                              \n",
      "[15 - 18)           1 ▓░                                                        \n",
      "[18 - 21)           1 ▓░                                                        \n",
      "[24 - 27)           1 ▓░                                                        \n",
      "[27 - 30]           1 ▓░                                                        \n",
      "                      +-------------+-------------+--------------+-------------+\n",
      "                      0            10            20             30            40\n",
      "The case 1053667 had the most documents: 30\n"
     ]
    }
   ],
   "source": [
    "# Which case had the most documents?\n",
    "cases_table.bins('documents_count').print_bars('documents_count', width=80)\n",
    "cases_by_documents_count = cases_table.order_by('documents_count', reverse=True)\n",
    "most_documents = cases_by_documents_count.rows[0]\n",
    "print(\"The case {0} had the most documents: {1}\".format(\n",
    "    most_documents['log_number'], most_documents['documents_count']))"
   ]
  },
  {
   "cell_type": "code",
   "execution_count": 27,
   "metadata": {
    "collapsed": false
   },
   "outputs": [
    {
     "name": "stdout",
     "output_type": "stream",
     "text": [
      "media_count Count\n",
      "[0 - 10)       68 ▓░░░░░░░░░░░░░░░░░░░░░░░░░░░░░░░░░░░░░░░░░░░░░░░░░░░░░░░░░░░  \n",
      "[10 - 20)      21 ▓░░░░░░░░░░░░░░░░░░                                           \n",
      "[20 - 30)       6 ▓░░░░░                                                        \n",
      "[30 - 40)       3 ▓░░░                                                          \n",
      "[40 - 50)       1 ▓░                                                            \n",
      "[70 - 80)       1 ▓░                                                            \n",
      "[90 - 100]      1 ▓░                                                            \n",
      "                  +--------------+--------------+---------------+--------------+\n",
      "                  0.0          17.5           35.0            52.5          70.0\n",
      "The case 1078616 had the most media (audio & video): 91\n"
     ]
    }
   ],
   "source": [
    "# Which case had the most media?\n",
    "cases_table.bins('media_count').print_bars('media_count', width=80)\n",
    "cases_by_media_count = cases_table.order_by('media_count', reverse=True)\n",
    "most_media = cases_by_media_count.rows[0]\n",
    "print(\"The case {0} had the most media (audio & video): {1}\".format(\n",
    "    most_media['log_number'], most_media['media_count']))"
   ]
  },
  {
   "cell_type": "code",
   "execution_count": 29,
   "metadata": {
    "collapsed": false
   },
   "outputs": [
    {
     "name": "stdout",
     "output_type": "stream",
     "text": [
      "audio_count Count\n",
      "[0 - 4)        49 ▓░░░░░░░░░░░░░░░░░░░░░░░░░░░░░░░░░░░░░░░░░░░░░░░░░░░░░░░░░░░░ \n",
      "[4 - 8)        20 ▓░░░░░░░░░░░░░░░░░░░░░░░░                                     \n",
      "[8 - 12)       12 ▓░░░░░░░░░░░░░░░                                              \n",
      "[12 - 16)       9 ▓░░░░░░░░░░░                                                  \n",
      "[16 - 20)       6 ▓░░░░░░░                                                      \n",
      "[20 - 24)       1 ▓░                                                            \n",
      "[28 - 32)       3 ▓░░░░                                                         \n",
      "[32 - 36)       1 ▓░                                                            \n",
      "                  +--------------+--------------+---------------+--------------+\n",
      "                  0.0          12.5           25.0            37.5          50.0\n",
      "The case 1060844 had the most audio: 34\n"
     ]
    }
   ],
   "source": [
    "# Which case had the most audio?\n",
    "cases_table.bins('audio_count').print_bars('audio_count', width=80)\n",
    "cases_by_audio_count = cases_table.order_by('audio_count', reverse=True)\n",
    "most_audio = cases_by_audio_count.rows[0]\n",
    "print(\"The case {0} had the most audio: {1}\".format(\n",
    "    most_audio['log_number'], most_audio['audio_count']))"
   ]
  },
  {
   "cell_type": "code",
   "execution_count": 31,
   "metadata": {
    "collapsed": false
   },
   "outputs": [
    {
     "name": "stdout",
     "output_type": "stream",
     "text": [
      "video_count Count\n",
      "[0 - 8)        91 ▓░░░░░░░░░░░░░░░░░░░░░░░░░░░░░░░░░░░░░░░░░░░░░░░░░░░░░░░░     \n",
      "[8 - 16)        6 ▓░░░░                                                         \n",
      "[16 - 24)       2 ▓░                                                            \n",
      "[56 - 64)       1 ▓░                                                            \n",
      "[72 - 80]       1 ▓░                                                            \n",
      "                  +--------------+--------------+---------------+--------------+\n",
      "                  0             25             50              75            100\n",
      "The case 1078616 had the most video: 73\n"
     ]
    }
   ],
   "source": [
    "# Which case had the most video?\n",
    "cases_table.bins('video_count').print_bars('video_count', width=80)\n",
    "cases_by_video_count = cases_table.order_by('video_count', reverse=True)\n",
    "most_video = cases_by_video_count.rows[0]\n",
    "print(\"The case {0} had the most video: {1}\".format(\n",
    "    most_video['log_number'], most_video['video_count']))"
   ]
  },
  {
   "cell_type": "code",
   "execution_count": 46,
   "metadata": {
    "collapsed": false
   },
   "outputs": [
    {
     "name": "stdout",
     "output_type": "stream",
     "text": [
      "There are 621 total documents\n",
      "There are 599 total audio files\n",
      "There are 322 total video files\n"
     ]
    }
   ],
   "source": [
    "# How many documents, videos and other shit are there in total?\n",
    "total_documents = cases_table.aggregate(agate.Sum('documents_count'))\n",
    "print(\"There are {0} total documents\".format(total_documents))\n",
    "total_audio = cases_table.aggregate(agate.Sum('audio_count'))\n",
    "print(\"There are {0} total audio files\".format(total_audio))\n",
    "total_video = cases_table.aggregate(agate.Sum('video_count'))\n",
    "print(\"There are {0} total video files\".format(total_video))"
   ]
  },
  {
   "cell_type": "code",
   "execution_count": 37,
   "metadata": {
    "collapsed": false
   },
   "outputs": [
    {
     "name": "stdout",
     "output_type": "stream",
     "text": [
      "time_to_notification Count\n",
      "[-100 - 200)            98 ▓░░░░░░░░░░░░░░░░░░░░░░░░░░░░░░░░░░░░░░░░░░░░░░░░░░░ \n",
      "[500 - 800)              2 ▓░                                                   \n",
      "[800 - 1,100)            1 ▓░                                                   \n",
      "                           +------------+------------+------------+------------+\n",
      "                           0           25           50           75          100\n",
      "The case 1078329 had the longest time from the incident date to when IPRA was notified: 1087 days\n"
     ]
    }
   ],
   "source": [
    "# What's the time between incident date and ipra notification\n",
    "def time_to_notification(row):\n",
    "    return (row['ipra_notification_date'] - row['incident_datetime'].date()).days\n",
    "\n",
    "with_time_to_notification = cases_table.compute([\n",
    "    ('time_to_notification', agate.Formula(agate.Number(), time_to_notification))\n",
    "])\n",
    "\n",
    "with_time_to_notification.bins('time_to_notification').print_bars('time_to_notification', width=80)\n",
    "\n",
    "by_time_to_notification = with_time_to_notification.order_by('time_to_notification', reverse=True)\n",
    "longest_time_to_notification = by_time_to_notification.rows[0]\n",
    "print(\"The case {0} had the longest time from the incident date to when IPRA was notified: {1} days\".format(\n",
    "    longest_time_to_notification['log_number'], longest_time_to_notification['time_to_notification']))"
   ]
  },
  {
   "cell_type": "code",
   "execution_count": 41,
   "metadata": {
    "collapsed": false
   },
   "outputs": [
    {
     "name": "stdout",
     "output_type": "stream",
     "text": [
      "time_to_notification Count\n",
      "-61                      1 ▓░                                                   \n",
      "0                       78 ▓░░░░░░░░░░░░░░░░░░░░░░░░░░░░░░░░░░░░░░░░░░░░░░░░░░░ \n",
      "1                        9 ▓░░░░░░                                              \n",
      "2                        3 ▓░░                                                  \n",
      "3                        2 ▓░                                                   \n",
      "4                        1 ▓░                                                   \n",
      "23                       1 ▓░                                                   \n",
      "52                       1 ▓░                                                   \n",
      "155                      1 ▓░                                                   \n",
      "158                      1 ▓░                                                   \n",
      "505                      1 ▓░                                                   \n",
      "668                      1 ▓░                                                   \n",
      "1087                     1 ▓░                                                   \n",
      "                           +------------+------------+------------+------------+\n",
      "                           0           20           40           60           80\n",
      "These cases have negative time to notifications\n",
      "|-------------+---------------------+----------------------+-----------------------|\n",
      "|  log_number |   incident_datetime | ipra_notification... | time_to_notification  |\n",
      "|-------------+---------------------+----------------------+-----------------------|\n",
      "|  1079728    | 2016-05-19 21:30:00 |           2016-03-19 |                  -61  |\n",
      "|-------------+---------------------+----------------------+-----------------------|\n"
     ]
    }
   ],
   "source": [
    "# Wat? There are negative notification times.  What's up with that?\n",
    "with_time_to_notification.pivot('time_to_notification').order_by('time_to_notification').print_bars('time_to_notification', width=80)\n",
    "\n",
    "with_negative_time_to_notification = with_time_to_notification.where(lambda row: row['time_to_notification'] < 0)\\\n",
    "    .select(['log_number', 'incident_datetime', 'ipra_notification_date', 'time_to_notification'])\n",
    "print(\"These cases have negative time to notifications\")\n",
    "with_negative_time_to_notification.print_table()"
   ]
  },
  {
   "cell_type": "code",
   "execution_count": 42,
   "metadata": {
    "collapsed": false
   },
   "outputs": [
    {
     "name": "stdout",
     "output_type": "stream",
     "text": [
      "incident_type              Count\n",
      "Firearm Discharge             74 ▓░░░░░░░░░░░░░░░░░░░░░░░░░░░░░░░░░░░░░░░░░░░   \n",
      "Incident in Police Custody    25 ▓░░░░░░░░░░░░░░                                \n",
      "Other Use Of Force             2 ▓░                                             \n",
      "                                 +-----------+----------+----------+-----------+\n",
      "                                 0          20         40         60          80\n"
     ]
    }
   ],
   "source": [
    "# What's the breakdown by incident type?\n",
    "cases_table.pivot('incident_type').print_bars('incident_type', width=80)"
   ]
  },
  {
   "cell_type": "code",
   "execution_count": null,
   "metadata": {
    "collapsed": true
   },
   "outputs": [],
   "source": []
  }
 ],
 "metadata": {
  "kernelspec": {
   "display_name": "Python 3",
   "language": "python",
   "name": "python3"
  },
  "language_info": {
   "codemirror_mode": {
    "name": "ipython",
    "version": 3
   },
   "file_extension": ".py",
   "mimetype": "text/x-python",
   "name": "python",
   "nbconvert_exporter": "python",
   "pygments_lexer": "ipython3",
   "version": "3.4.2"
  }
 },
 "nbformat": 4,
 "nbformat_minor": 0
}
