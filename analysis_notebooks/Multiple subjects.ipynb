{
 "cells": [
  {
   "cell_type": "markdown",
   "metadata": {},
   "source": [
    "# Multiple subjects\n",
    "\n",
    "Do any subjects (people shot or injured by an officer) appear in more than one case?"
   ]
  },
  {
   "cell_type": "code",
   "execution_count": 4,
   "metadata": {
    "collapsed": false
   },
   "outputs": [],
   "source": [
    "# Load the subjects from the CSV\n",
    "\n",
    "import os\n",
    "\n",
    "SUBJECTS_CSV_PATH = os.environ.get('SUBJECTS_CSV_PATH', 'subjects.csv')\n",
    "\n",
    "import agate\n",
    "\n",
    "subjects = agate.Table.from_csv(SUBJECTS_CSV_PATH)"
   ]
  },
  {
   "cell_type": "code",
   "execution_count": 5,
   "metadata": {
    "collapsed": false
   },
   "outputs": [
    {
     "name": "stdout",
     "output_type": "stream",
     "text": [
      "|-----------------------+------------|\n",
      "|  subject              | num_cases  |\n",
      "|-----------------------+------------|\n",
      "|  Kurtis Garrett       |         2  |\n",
      "|  Unknown              |         2  |\n",
      "|  Charles Smith        |         1  |\n",
      "|  Cornelius Purnell    |         1  |\n",
      "|  Flint Farmer         |         1  |\n",
      "|  Manuel Villanueva    |         1  |\n",
      "|  Eugene McSwaine      |         1  |\n",
      "|  Martice Milliner     |         1  |\n",
      "|  Karaka Walls         |         1  |\n",
      "|  Alfontish Cockerham  |         1  |\n",
      "|  Darius Pinex         |         1  |\n",
      "|  Denzel Ford          |         1  |\n",
      "|  Jermaine Henry       |         1  |\n",
      "|  Richard Booker       |         1  |\n",
      "|  Juan Perea           |         1  |\n",
      "|  Semaj G. Funchess... |         1  |\n",
      "|  Christopher Kelly    |         1  |\n",
      "|  Anthony Castaneda    |         1  |\n",
      "|  Terrance Hogan       |         1  |\n",
      "|  Warren Robinson      |         1  |\n",
      "|  ...                  |       ...  |\n",
      "|-----------------------+------------|\n"
     ]
    }
   ],
   "source": [
    "# Group the records by subject name and count the number of rows\n",
    "\n",
    "by_subject = subjects.group_by('subject')\n",
    "case_counts = by_subject.aggregate([\n",
    "    ('num_cases', agate.Count()),\n",
    "]).order_by('num_cases', reverse=True)\n",
    "case_counts.print_table()"
   ]
  },
  {
   "cell_type": "code",
   "execution_count": null,
   "metadata": {
    "collapsed": true
   },
   "outputs": [],
   "source": []
  }
 ],
 "metadata": {
  "kernelspec": {
   "display_name": "Python 2",
   "language": "python",
   "name": "python2"
  },
  "language_info": {
   "codemirror_mode": {
    "name": "ipython",
    "version": 2
   },
   "file_extension": ".py",
   "mimetype": "text/x-python",
   "name": "python",
   "nbconvert_exporter": "python",
   "pygments_lexer": "ipython2",
   "version": "2.7.10"
  }
 },
 "nbformat": 4,
 "nbformat_minor": 0
}
